{
 "cells": [
  {
   "cell_type": "markdown",
   "id": "772f6803",
   "metadata": {},
   "source": [
    "# Data Science Intern at Let's Grow More LGMVIP July22"
   ]
  },
  {
   "cell_type": "markdown",
   "id": "e40e1b78",
   "metadata": {},
   "source": [
    "# Beginner Level Task"
   ]
  },
  {
   "cell_type": "markdown",
   "id": "d67b0fc2",
   "metadata": {},
   "source": [
    "# Task 4 - Image to Pencil Sketch"
   ]
  },
  {
   "cell_type": "markdown",
   "id": "f7e2bfbf",
   "metadata": {},
   "source": [
    "# Rupam Pal"
   ]
  },
  {
   "cell_type": "code",
   "execution_count": null,
   "id": "c109710d",
   "metadata": {},
   "outputs": [],
   "source": [
    "#Importing Packages\n",
    "import cv2\n",
    "import numpy as np\n",
    "import plotly.express as px\n",
    "\n",
    "print(\"Packages imported successfully\")"
   ]
  },
  {
   "cell_type": "code",
   "execution_count": null,
   "id": "f13c46e9",
   "metadata": {},
   "outputs": [],
   "source": [
    "img = cv2.imread(r\"real-madrid.jpg\")\n",
    "img = cv2.cvtColor(img,cv2.COLOR_BGR2RGB)\n",
    "imgs=px.imshow(img)\n",
    "#imgs.update_layout(width=990, height=600 ,margin=dict(l=20, r=20, b=10, t=10))\n",
    "imgs.update_xaxes(showticklabels=False).update_yaxes(showticklabels=False)\n",
    "imgs.show()"
   ]
  },
  {
   "cell_type": "code",
   "execution_count": null,
   "id": "b2061868",
   "metadata": {},
   "outputs": [],
   "source": [
    "#Resizing image shape\n",
    "scale_percent = 0.60\n",
    "width = int(img.shape[1]*scale_percent)\n",
    "height = int(img.shape[0]*scale_percent)\n",
    "dim = (width,height)\n",
    "resized = cv2.resize(img,dim,interpolation = cv2.INTER_AREA)\n",
    "res=px.imshow(resized)\n",
    "res.update_xaxes(showticklabels=False).update_yaxes(showticklabels=False)\n",
    "res.show()"
   ]
  },
  {
   "cell_type": "code",
   "execution_count": null,
   "id": "3e1e1d3a",
   "metadata": {},
   "outputs": [],
   "source": [
    "#Sharpening Image\n",
    "kernel_sharpening = np.array([[-1,-1,-1], \n",
    "                              [-1, 9,-1],\n",
    "                              [-1,-1,-1]])\n",
    "sharpened = cv2.filter2D(resized,-1,kernel_sharpening)\n",
    "sharp=px.imshow(sharpened)\n",
    "sharp.update_xaxes(showticklabels=False).update_yaxes(showticklabels=False)\n",
    "sharp.show()"
   ]
  },
  {
   "cell_type": "code",
   "execution_count": null,
   "id": "423aed68",
   "metadata": {},
   "outputs": [],
   "source": [
    "#Converting an image into gray_scale image\n",
    "grayscale = cv2.cvtColor(sharpened , cv2.COLOR_BGR2GRAY)\n",
    "gray = px.imshow(grayscale, color_continuous_scale='gray')\n",
    "gray.update_xaxes(showticklabels=False).update_yaxes(showticklabels=False)\n",
    "gray.show()"
   ]
  },
  {
   "cell_type": "code",
   "execution_count": null,
   "id": "c45f0623",
   "metadata": {},
   "outputs": [],
   "source": [
    "#Inverting the image\n",
    "invs = 255-grayscale\n",
    "inv=px.imshow(invs,color_continuous_scale='gray')\n",
    "inv.update_xaxes(showticklabels=False).update_yaxes(showticklabels=False)\n",
    "inv.show()"
   ]
  },
  {
   "cell_type": "code",
   "execution_count": null,
   "id": "a51219c1",
   "metadata": {},
   "outputs": [],
   "source": [
    "#Smoothing the image\n",
    "gauss = cv2.GaussianBlur(invs,ksize=(15,15),sigmaX=0,sigmaY=0)\n",
    "gaus=px.imshow(gauss,color_continuous_scale='gray')\n",
    "gaus.update_xaxes(showticklabels=False).update_yaxes(showticklabels=False)\n",
    "gaus.show()"
   ]
  },
  {
   "cell_type": "code",
   "execution_count": null,
   "id": "14f79c79",
   "metadata": {},
   "outputs": [],
   "source": [
    "#Obtaining the final sketch\n",
    "def dodgeV2(image,mask):\n",
    "    return cv2.divide(image,255-mask,scale=256)\n",
    "\n",
    "pencil_img = dodgeV2(grayscale,gauss)\n",
    "sketch=px.imshow(pencil_img,color_continuous_scale='gray')\n",
    "#sketch.update_layout(width=990, height=600 ,margin=dict(l=20, r=20, b=10, t=10))\n",
    "sketch.update_layout(coloraxis_showscale=False)\n",
    "sketch.update_xaxes(showticklabels=False).update_yaxes(showticklabels=False)\n",
    "sketch.show()"
   ]
  },
  {
   "cell_type": "code",
   "execution_count": null,
   "id": "3c4f92e3",
   "metadata": {},
   "outputs": [],
   "source": []
  }
 ],
 "metadata": {
  "kernelspec": {
   "display_name": "Python 3 (ipykernel)",
   "language": "python",
   "name": "python3"
  },
  "language_info": {
   "codemirror_mode": {
    "name": "ipython",
    "version": 3
   },
   "file_extension": ".py",
   "mimetype": "text/x-python",
   "name": "python",
   "nbconvert_exporter": "python",
   "pygments_lexer": "ipython3",
   "version": "3.9.12"
  }
 },
 "nbformat": 4,
 "nbformat_minor": 5
}
